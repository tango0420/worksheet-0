{
  "nbformat": 4,
  "nbformat_minor": 0,
  "metadata": {
    "colab": {
      "provenance": [],
      "authorship_tag": "ABX9TyMirWHM8Bdi+HjHuJcs6qXM",
      "include_colab_link": true
    },
    "kernelspec": {
      "name": "python3",
      "display_name": "Python 3"
    },
    "language_info": {
      "name": "python"
    }
  },
  "cells": [
    {
      "cell_type": "markdown",
      "metadata": {
        "id": "view-in-github",
        "colab_type": "text"
      },
      "source": [
        "<a href=\"https://colab.research.google.com/github/tango0420/worksheet-0/blob/main/worksheet0.ipynb\" target=\"_parent\"><img src=\"https://colab.research.google.com/assets/colab-badge.svg\" alt=\"Open In Colab\"/></a>"
      ]
    },
    {
      "cell_type": "code",
      "execution_count": null,
      "metadata": {
        "id": "K0xp7Jwhyuli"
      },
      "outputs": [],
      "source": [
        "Task1"
      ]
    },
    {
      "cell_type": "code",
      "source": [
        "1.1\n",
        "cold = []\n",
        "mild = []\n",
        "comfortable = []\n",
        "\n",
        "1.2\n",
        "for temp in temperatures:\n",
        "    if temp < 10:\n",
        "        cold.append(temp)\n",
        "    elif 10 <= temp <= 15:\n",
        "        mild.append(temp)\n",
        "    elif 15 < temp <= 20:\n",
        "        comfortable.append(temp)\n",
        "\n",
        "1.3\n",
        "print(\"Cold temperatures:\", cold)\n",
        "print(\"Mild temperatures:\", mild)\n",
        "print(\"Comfortable temperatures:\", comfortable)\n",
        "\n"
      ],
      "metadata": {
        "id": "Tx0BxrF5zuXX"
      },
      "execution_count": null,
      "outputs": []
    },
    {
      "cell_type": "code",
      "source": [
        "Task2-\n",
        "#using len() function to count\n",
        "\n",
        "# How many times was it mild?\n",
        "print(\"It was mild\", len(mild), \"times.\")\n",
        "\n",
        "# How many times was it comfortable?\n",
        "print(\"It was comfortable\", len(comfortable), \"times.\")\n",
        "\n",
        "# How many times was it cold?\n",
        "print(\"It was cold\", len(cold), \"times.\")"
      ],
      "metadata": {
        "id": "59pOPbcl0REI"
      },
      "execution_count": null,
      "outputs": []
    },
    {
      "cell_type": "code",
      "source": [
        "TASK3-\n",
        "# Sample temperatures list in Celsius\n",
        "temperatures = [5, 12, 18, 8, 14, 20, 7, 16, 11, 9]\n",
        "temperatures_fahrenheit = []\n",
        "\n",
        "# Iterating over the temperatures list and applying the conversion formula\n",
        "for temp in temperatures:\n",
        "    fahrenheit = (temp * 9/5) + 32\n",
        "    temperatures_fahrenheit.append(fahrenheit)\n",
        "\n",
        "#Printing the converted Fahrenheit values\n",
        "print(\"Temperatures in Fahrenheit:\", temperatures_fahrenheit)"
      ],
      "metadata": {
        "id": "fmRJV50l0TDW"
      },
      "execution_count": null,
      "outputs": []
    },
    {
      "cell_type": "code",
      "source": [
        "TASK4-\n",
        "# Sample temperatures list\n",
        "temperatures = [5, 7, 6, 4, 3, 2, 1, 3, 6, 9, 12, 14, 16, 17, 19, 21, 22, 23, 21, 19, 16, 14, 12, 10]\n",
        "\n",
        "#Creating empty lists for night, evening, and day temperatures\n",
        "night_temps = []\n",
        "evening_temps = []\n",
        "day_temps = []\n",
        "\n",
        "# Iterating over the temperatures list, assigning values based on time-of-day\n",
        "for i in range(len(temperatures)):\n",
        "    if 0 <= i < 9:  # Night (00-08)\n",
        "        night_temps.append(temperatures[i])\n",
        "    elif 9 <= i < 17:  # Evening (08-16)\n",
        "        evening_temps.append(temperatures[i])\n",
        "    else:  # Day (16-24)\n",
        "        day_temps.append(temperatures[i])\n",
        "\n",
        "#Calculating the average day-time temperature\n",
        "average_day_temp = sum(day_temps) / len(day_temps) if day_temps else 0\n",
        "print(\"Average daytime temperature:\", average_day_temp)\n",
        "\n",
        "# Printing\n",
        "print(\"Night temperatures:\", night_temps)\n",
        "print(\"Evening temperatures:\", evening_temps)\n",
        "print(\"Day temperatures:\", day_temps)"
      ],
      "metadata": {
        "id": "QuLvWD9O0Z-V"
      },
      "execution_count": null,
      "outputs": []
    },
    {
      "cell_type": "markdown",
      "source": [
        "8.1.1 Exercise - Recursion:"
      ],
      "metadata": {
        "id": "5mnIZy-l0lRJ"
      }
    },
    {
      "cell_type": "code",
      "source": [
        "\n",
        "Task1 Sum of Nested Lists:\n",
        "\n",
        "def sum_nested_list(nested_list):\n",
        "    total_sum = 0\n",
        "\n",
        "    # Iterating through each element in the list\n",
        "    for item in nested_list:\n",
        "        if isinstance(item, (int, float)):\n",
        "            total_sum += item\n",
        "        elif isinstance(item, list):\n",
        "            total_sum += sum_nested_list(item)\n",
        "\n",
        "    return total_sum\n",
        "\n",
        "# Testing the function with a sample nested list\n",
        "nested_list = [1, [2, [3, 4], 5], 6, [7, 8]]\n",
        "result = sum_nested_list(nested_list)\n",
        "\n",
        "# printng the output\n",
        "print(\"Total sum:\", result)"
      ],
      "metadata": {
        "id": "B3N412AG0enq"
      },
      "execution_count": null,
      "outputs": []
    },
    {
      "cell_type": "code",
      "source": [
        "TASK2-\n",
        "def generate_permutations(s):\n",
        "    if len(s) == 1:\n",
        "        return [s]\n",
        "\n",
        "\n",
        "    permutations = set()\n",
        "    for i in range(len(s)):\n",
        "        char = s[i]\n",
        "        remaining_string = s[:i] + s[i+1:]\n",
        "\n",
        "        # Recursively generating all permutations of the remaining string\n",
        "        for perm in generate_permutations(remaining_string):\n",
        "            # Adding the character to the front of each of the permutations\n",
        "            permutations.add(char + perm)\n",
        "\n",
        "    # Returning a list of all unique permutations\n",
        "    return list(permutations)\n",
        "\n",
        "print(generate_permutations(\"abc\"))  # Expected: ['abc', 'acb', 'bac', 'bca', 'cab', 'cba']\n",
        "print(generate_permutations(\"aab\"))  # Expected: ['aab', 'aba', 'baa']"
      ],
      "metadata": {
        "id": "J_MASCUa0tPi"
      },
      "execution_count": null,
      "outputs": []
    },
    {
      "cell_type": "code",
      "source": [
        "TASK 3-\n",
        "\n",
        "def calculate_directory_size(directory):\n",
        "    total_size = 0\n",
        "\n",
        "    # Iterating through the directory structure\n",
        "    for item, value in directory.items():\n",
        "        if isinstance(value, dict):\n",
        "            # Recursively calculating the size of the subdirectory\n",
        "            total_size += calculate_directory_size(value)\n",
        "        else:\n",
        "            total_size += value\n",
        "\n",
        "    return total_size\n",
        "\n",
        "# Sample directory structure as mentioned\n",
        "directory_structure = {\n",
        "    \"file1.txt\": 200,\n",
        "    \"file2.txt\": 300,\n",
        "    \"subdir1\": {\n",
        "        \"file3.txt\": 400,\n",
        "        \"file4.txt\": 100\n",
        "    },\n",
        "    \"subdir2\": {\n",
        "        \"subsubdir1\": {\n",
        "            \"file5.txt\": 250\n",
        "        },\n",
        "        \"file6.txt\": 150\n",
        "    }\n",
        "}\n",
        "\n",
        "# Calculating the total size of the directory structure\n",
        "total_size = calculate_directory_size(directory_structure)\n",
        "\n",
        "print(f\"Total directory size: {total_size} KB\")"
      ],
      "metadata": {
        "id": "86evlxZ50xi7"
      },
      "execution_count": null,
      "outputs": []
    },
    {
      "cell_type": "markdown",
      "source": [
        "8.2.2 Exercises - Dynamic Programming:"
      ],
      "metadata": {
        "id": "nERaAdE704TS"
      }
    },
    {
      "cell_type": "code",
      "source": [
        "task1 - Coin Change Problem:\n",
        "\n",
        "def min_coins(coins, amount):\n",
        "    max_coins = amount + 1\n",
        "\n",
        "    # Creating a list to store the minimum number of coins for each amount\n",
        "    dp = [max_coins] * (amount + 1)\n",
        "\n",
        "    # Base case: 0 coins are needed to make the amount 0\n",
        "    dp[0] = 0\n",
        "\n",
        "    # Iterating through each coin in the list of coins\n",
        "    for coin in coins:\n",
        "        # Updating the dp list for all amounts that can be formed with the current coin\n",
        "        for i in range(coin, amount + 1):\n",
        "            dp[i] = min(dp[i], dp[i - coin] + 1)\n",
        "\n",
        "    # If dp[amount] is still max_coins, return -1 (it means we can't make that amount)\n",
        "    return dp[amount] if dp[amount] != max_coins else -1\n",
        "\n",
        "# Testing the function with coins = [1, 2, 5] and amount = 11\n",
        "coins = [1, 2, 5]\n",
        "amount = 11\n",
        "result = min_coins(coins, amount)\n",
        "print(result)  # Expected output: 3 (using coins [5, 5, 1])"
      ],
      "metadata": {
        "id": "JbUEW5Q9065t"
      },
      "execution_count": null,
      "outputs": []
    },
    {
      "cell_type": "code",
      "source": [
        "TASK2-\n",
        "def longest_common_subsequence(s1, s2):\n",
        "    # Length of the two strings\n",
        "    m, n = len(s1), len(s2)\n",
        "\n",
        "    # Creating a table\n",
        "    dp = [[0] * (n + 1) for _ in range(m + 1)]\n",
        "\n",
        "    # Filling the DP table\n",
        "    for i in range(1, m + 1):\n",
        "        for j in range(1, n + 1):\n",
        "            if s1[i - 1] == s2[j - 1]:\n",
        "                dp[i][j] = dp[i - 1][j - 1] + 1\n",
        "            else:\n",
        "                dp[i][j] = max(dp[i - 1][j], dp[i][j - 1])\n",
        "\n",
        "    # The length of the LCS is in the bottom-right corner of the table\n",
        "    return dp[m][n]\n",
        "\n",
        "#testing\n",
        "s1 = \"abcde\"\n",
        "s2 = \"ace\"\n",
        "result = longest_common_subsequence(s1, s2)\n",
        "print(result)  # Expected output: 3 (\"ace\")"
      ],
      "metadata": {
        "id": "sQYi22pq1E1M"
      },
      "execution_count": null,
      "outputs": []
    },
    {
      "cell_type": "code",
      "source": [
        "TASK 3-\n",
        "def knapsack(weights, values, capacity):\n",
        "    n = len(weights)  # Number of items\n",
        "\n",
        "    # Creating a DP table\n",
        "    dp = [[0] * (capacity + 1) for _ in range(n + 1)]\n",
        "\n",
        "    # Filling the DP table\n",
        "    for i in range(1, n + 1):  # Iterating through each item\n",
        "        for w in range(1, capacity + 1):  # Iterating through each weight capacity\n",
        "            if weights[i - 1] <= w:\n",
        "                dp[i][w] = max(dp[i - 1][w], dp[i - 1][w - weights[i - 1]] + values[i - 1])\n",
        "            else:\n",
        "                dp[i][w] = dp[i - 1][w]\n",
        "\n",
        "    return dp[n][capacity]\n",
        "\n",
        "#The output test\n",
        "weights = [1, 3, 4, 5]\n",
        "values = [1, 4, 5, 7]\n",
        "capacity = 7\n",
        "result = knapsack(weights, values, capacity)\n",
        "print(result)  # Expected output: 9"
      ],
      "metadata": {
        "id": "AEqbbVlT1JNF"
      },
      "execution_count": null,
      "outputs": []
    }
  ]
}